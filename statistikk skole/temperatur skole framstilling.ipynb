{
 "cells": [
  {
   "cell_type": "code",
   "execution_count": 52,
   "metadata": {},
   "outputs": [],
   "source": [
    "from pylab import*\n",
    "\n",
    "data=loadtxt('temperaturdata.txt', skiprows=1, usecols=(1,2), delimiter=\",\")\n",
    "\n",
    "tid=data[:,0]\n",
    "temperatur=data[:,1]"
   ]
  },
  {
   "cell_type": "code",
   "execution_count": 53,
   "metadata": {},
   "outputs": [
    {
     "data": {
      "text/plain": [
       "array([  0. ,   0.5,   1. ,   1.5,   2. ,   2.5,   3. ,   3.5,   4. ,\n",
       "         4.5,   5. ,   5.5,   6. ,   6.5,   7. ,   7.5,   8. ,   8.5,\n",
       "         9. ,   9.5,  10. ,  10.5,  11. ,  11.5,  12. ,  12.5,  13. ,\n",
       "        13.5,  14. ,  14.5,  15. ,  15.5,  16. ,  16.5,  17. ,  17.5,\n",
       "        18. ,  18.5,  19. ,  19.5,  20. ,  20.5,  21. ,  21.5,  22. ,\n",
       "        22.5,  23. ,  23.5,  24. ,  24.5,  25. ,  25.5,  26. ,  26.5,\n",
       "        27. ,  27.5,  28. ,  28.5,  29. ,  29.5,  30. ,  30.5,  31. ,\n",
       "        31.5,  32. ,  32.5,  33. ,  33.5,  34. ,  34.5,  35. ,  35.5,\n",
       "        36. ,  36.5,  37. ,  37.5,  38. ,  38.5,  39. ,  39.5,  40. ,\n",
       "        40.5,  41. ,  41.5,  42. ,  42.5,  43. ,  43.5,  44. ,  44.5,\n",
       "        45. ,  45.5,  46. ,  46.5,  47. ,  47.5,  48. ,  48.5,  49. ,\n",
       "        49.5,  50. ,  50.5,  51. ,  51.5,  52. ,  52.5,  53. ,  53.5,\n",
       "        54. ,  54.5,  55. ,  55.5,  56. ,  56.5,  57. ,  57.5,  58. ,\n",
       "        58.5,  59. ,  59.5,  60. ,  60.5,  61. ,  61.5,  62. ,  62.5,\n",
       "        63. ,  63.5,  64. ,  64.5,  65. ,  65.5,  66. ,  66.5,  67. ,\n",
       "        67.5,  68. ,  68.5,  69. ,  69.5,  70. ,  70.5,  71. ,  71.5,\n",
       "        72. ,  72.5,  73. ,  73.5,  74. ,  74.5,  75. ,  75.5,  76. ,\n",
       "        76.5,  77. ,  77.5,  78. ,  78.5,  79. ,  79.5,  80. ,  80.5,\n",
       "        81. ,  81.5,  82. ,  82.5,  83. ,  83.5,  84. ,  84.5,  85. ,\n",
       "        85.5,  86. ,  86.5,  87. ,  87.5,  88. ,  88.5,  89. ,  89.5,\n",
       "        90. ,  90.5,  91. ,  91.5,  92. ,  92.5,  93. ,  93.5,  94. ,\n",
       "        94.5,  95. ,  95.5,  96. ,  96.5,  97. ,  97.5,  98. ,  98.5,\n",
       "        99. ,  99.5, 100. , 100.5, 101. , 101.5, 102. , 102.5, 103. ,\n",
       "       103.5, 104. , 104.5, 105. , 105.5, 106. , 106.5, 107. , 107.5,\n",
       "       108. , 108.5, 109. , 109.5, 110. , 110.5, 111. , 111.5, 112. ,\n",
       "       112.5, 113. , 113.5, 114. , 114.5, 115. , 115.5, 116. , 116.5,\n",
       "       117. , 117.5, 118. , 118.5, 119. , 119.5, 120. , 120.5, 121. ,\n",
       "       121.5, 122. , 122.5, 123. , 123.5, 124. , 124.5, 125. , 125.5,\n",
       "       126. , 126.5, 127. , 127.5, 128. , 128.5, 129. , 129.5, 130. ,\n",
       "       130.5, 131. , 131.5, 132. , 132.5, 133. , 133.5, 134. , 134.5,\n",
       "       135. , 135.5, 136. , 136.5, 137. , 137.5, 138. , 138.5, 139. ,\n",
       "       139.5, 140. , 140.5, 141. , 141.5, 142. , 142.5, 143. , 143.5,\n",
       "       144. , 144.5, 145. , 145.5, 146. , 146.5, 147. , 147.5, 148. ,\n",
       "       148.5, 149. , 149.5, 150. , 150.5, 151. , 151.5, 152. , 152.5,\n",
       "       153. , 153.5, 154. , 154.5, 155. , 155.5, 156. , 156.5, 157. ,\n",
       "       157.5, 158. , 158.5, 159. , 159.5, 160. , 160.5, 161. , 161.5,\n",
       "       162. , 162.5, 163. , 163.5, 164. , 164.5, 165. , 165.5, 166. ,\n",
       "       166.5, 167. , 167.5, 168. , 168.5, 169. , 169.5, 170. , 170.5,\n",
       "       171. , 171.5, 172. , 172.5, 173. , 173.5, 174. , 174.5, 175. ,\n",
       "       175.5, 176. , 176.5, 177. , 177.5, 178. , 178.5, 179. , 179.5,\n",
       "       180. , 180.5, 181. , 181.5, 182. , 182.5, 183. , 183.5, 184. ,\n",
       "       184.5, 185. , 185.5, 186. , 186.5, 187. , 187.5, 188. , 188.5,\n",
       "       189. , 189.5, 190. , 190.5, 191. , 191.5, 192. , 192.5, 193. ,\n",
       "       193.5, 194. , 194.5, 195. , 195.5, 196. , 196.5, 197. , 197.5,\n",
       "       198. , 198.5, 199. , 199.5, 200. , 200.5, 201. , 201.5, 202. ,\n",
       "       202.5, 203. , 203.5, 204. , 204.5, 205. , 205.5, 206. , 206.5,\n",
       "       207. , 207.5, 208. , 208.5, 209. , 209.5, 210. , 210.5, 211. ,\n",
       "       211.5, 212. , 212.5, 213. , 213.5, 214. , 214.5, 215. , 215.5,\n",
       "       216. , 216.5, 217. , 217.5, 218. , 218.5, 219. , 219.5, 220. ,\n",
       "       220.5, 221. , 221.5, 222. , 222.5, 223. , 223.5, 224. , 224.5,\n",
       "       225. , 225.5, 226. , 226.5, 227. , 227.5, 228. , 228.5, 229. ,\n",
       "       229.5, 230. , 230.5, 231. , 231.5, 232. , 232.5, 233. , 233.5,\n",
       "       234. , 234.5, 235. , 235.5, 236. , 236.5, 237. , 237.5, 238. ,\n",
       "       238.5, 239. , 239.5, 240. , 240.5, 241. , 241.5, 242. , 242.5,\n",
       "       243. , 243.5, 244. , 244.5, 245. , 245.5, 246. , 246.5, 247. ,\n",
       "       247.5, 248. , 248.5, 249. , 249.5, 250. , 250.5, 251. , 251.5,\n",
       "       252. , 252.5, 253. , 253.5, 254. , 254.5, 255. , 255.5, 256. ,\n",
       "       256.5, 257. , 257.5, 258. , 258.5, 259. , 259.5, 260. , 260.5,\n",
       "       261. , 261.5, 262. , 262.5, 263. , 263.5, 264. , 264.5, 265. ,\n",
       "       265.5, 266. , 266.5, 267. , 267.5, 268. , 268.5, 269. , 269.5,\n",
       "       270. , 270.5, 271. , 271.5, 272. , 272.5, 273. , 273.5, 274. ,\n",
       "       274.5, 275. , 275.5, 276. , 276.5, 277. , 277.5, 278. , 278.5,\n",
       "       279. , 279.5, 280. , 280.5, 281. , 281.5, 282. , 282.5, 283. ,\n",
       "       283.5, 284. , 284.5, 285. , 285.5, 286. , 286.5, 287. , 287.5,\n",
       "       288. , 288.5, 289. , 289.5, 290. , 290.5, 291. , 291.5, 292. ,\n",
       "       292.5, 293. , 293.5, 294. , 294.5, 295. , 295.5, 296. , 296.5,\n",
       "       297. , 297.5, 298. , 298.5, 299. , 299.5, 300. , 300.5, 301. ,\n",
       "       301.5, 302. , 302.5, 303. , 303.5, 304. , 304.5, 305. , 305.5,\n",
       "       306. , 306.5, 307. , 307.5, 308. , 308.5, 309. , 309.5, 310. ,\n",
       "       310.5, 311. , 311.5, 312. , 312.5, 313. , 313.5, 314. , 314.5,\n",
       "       315. , 315.5, 316. , 316.5, 317. , 317.5, 318. , 318.5, 319. ,\n",
       "       319.5, 320. , 320.5, 321. , 321.5, 322. , 322.5, 323. , 323.5,\n",
       "       324. , 324.5, 325. , 325.5, 326. , 326.5, 327. , 327.5, 328. ,\n",
       "       328.5, 329. , 329.5, 330. , 330.5, 331. , 331.5, 332. , 332.5,\n",
       "       333. , 333.5, 334. , 334.5, 335. , 335.5, 336. , 336.5, 337. ,\n",
       "       337.5, 338. , 338.5, 339. , 339.5, 340. , 340.5, 341. , 341.5,\n",
       "       342. , 342.5, 343. , 343.5, 344. , 344.5, 345. , 345.5, 346. ,\n",
       "       346.5, 347. , 347.5, 348. , 348.5, 349. , 349.5, 350. , 350.5,\n",
       "       351. , 351.5, 352. , 352.5, 353. , 353.5, 354. , 354.5, 355. ,\n",
       "       355.5, 356. , 356.5, 357. , 357.5, 358. , 358.5, 359. , 359.5,\n",
       "       360. , 360.5, 361. , 361.5, 362. , 362.5, 363. , 363.5, 364. ,\n",
       "       364.5, 365. , 365.5, 366. , 366.5, 367. , 367.5, 368. , 368.5,\n",
       "       369. , 369.5, 370. , 370.5, 371. , 371.5, 372. , 372.5, 373. ,\n",
       "       373.5, 374. , 374.5, 375. , 375.5, 376. , 376.5, 377. , 377.5,\n",
       "       378. , 378.5, 379. , 379.5, 380. , 380.5, 381. ])"
      ]
     },
     "execution_count": 53,
     "metadata": {},
     "output_type": "execute_result"
    }
   ],
   "source": [
    "tid"
   ]
  },
  {
   "cell_type": "code",
   "execution_count": 54,
   "metadata": {},
   "outputs": [
    {
     "data": {
      "text/plain": [
       "array([23.6, 23.6, 23.6, 23.6, 23.6, 23.6, 23.6, 23.6, 23.6, 23.6, 23.6,\n",
       "       23.6, 23.6, 23.6, 23.6, 23.6, 23.6, 23.6, 23.6, 23.6, 23.6, 23.6,\n",
       "       23.6, 23.6, 23.6, 23.6, 23.6, 23.6, 23.6, 23.6, 23.6, 23.6, 23.6,\n",
       "       23.6, 23.6, 23.6, 23.6, 23.6, 23.6, 23.6, 23.6, 23.6, 23.6, 23.6,\n",
       "       23.6, 23.6, 23.6, 23.6, 23.6, 23.2, 22.4, 21.8, 21.4, 21.1, 20.8,\n",
       "       20.6, 20.5, 20.3, 20.2, 20.2, 20.1, 20.1, 20.1, 20. , 20. , 20. ,\n",
       "       20. , 20. , 19.9, 19.9, 19.9, 20. , 20. , 20.1, 20.1, 20.2, 20.3,\n",
       "       20.4, 20.5, 20.6, 20.8, 21. , 21.2, 21.4, 21.6, 21.8, 22.1, 22.3,\n",
       "       22.6, 22.9, 23.2, 23.5, 23.8, 24.1, 24.4, 24.7, 25. , 25.2, 25.5,\n",
       "       25.8, 26. , 26.3, 26.5, 26.8, 26.9, 27.2, 27.4, 27.6, 27.8, 28. ,\n",
       "       28.2, 28.4, 28.6, 28.8, 28.9, 29.1, 29.3, 29.5, 29.7, 29.9, 30.1,\n",
       "       30.3, 30.6, 30.8, 31. , 31.2, 31.5, 31.7, 31.9, 32.2, 32.4, 32.7,\n",
       "       32.9, 33.2, 33.4, 33.6, 33.9, 34.1, 34.4, 34.6, 34.8, 35. , 35.2,\n",
       "       35.5, 35.6, 35.9, 36. , 36.3, 36.4, 36.6, 36.8, 37. , 37.1, 37.3,\n",
       "       37.4, 37.6, 37.8, 37.9, 38. , 38.2, 38.3, 38.5, 38.6, 38.7, 38.8,\n",
       "       38.9, 39. , 39.1, 39.2, 39.3, 39.4, 39.5, 39.6, 39.7, 39.8, 39.9,\n",
       "       39.9, 40. , 40.1, 40.2, 40.3, 40.3, 40.4, 40.5, 40.6, 40.6, 40.7,\n",
       "       40.7, 40.8, 40.9, 40.9, 41. , 41. , 41.1, 41.1, 41.2, 41.2, 41.1,\n",
       "       40.9, 40.8, 40.7, 40.5, 40.2, 40. , 39.7, 39.5, 39.3, 39. , 38.8,\n",
       "       38.5, 38.3, 38. , 37.7, 37.5, 37.2, 36.9, 36.7, 36.4, 36.2, 35.9,\n",
       "       35.7, 35.5, 35.3, 35. , 34.8, 34.6, 34.4, 34.2, 33.9, 33.8, 33.5,\n",
       "       33.3, 33.1, 33. , 32.8, 32.6, 32.4, 32.2, 32.1, 31.9, 31.7, 31.5,\n",
       "       31.4, 31.2, 31. , 30.9, 30.7, 30.5, 30.4, 30.3, 30.1, 30. , 29.9,\n",
       "       29.7, 29.6, 29.5, 29.4, 29.2, 29.1, 29. , 28.9, 28.7, 28.6, 28.5,\n",
       "       28.4, 28.3, 28.2, 28.1, 28. , 27.9, 27.8, 27.7, 27.6, 27.5, 27.4,\n",
       "       27.3, 27.3, 27.2, 27. , 26.9, 26.7, 26.5, 26.3, 26.2, 26.1, 26. ,\n",
       "       25.8, 25.7, 25.5, 25.4, 25.3, 25.2, 25. , 24.8, 24.7, 24.6, 24.4,\n",
       "       24.2, 24.1, 24. , 23.9, 23.8, 23.6, 23.5, 23.5, 23.3, 23.2, 23.1,\n",
       "       22.9, 22.8, 22.7, 22.6, 22.5, 22.5, 22.4, 22.3, 22.3, 22.2, 22.1,\n",
       "       22. , 21.9, 21.9, 21.8, 21.7, 21.7, 21.6, 21.5, 21.4, 21.4, 21.3,\n",
       "       21.3, 21.2, 21.1, 21. , 21. , 20.9, 20.9, 20.8, 20.7, 20.6, 20.6,\n",
       "       20.5, 20.4, 20.3, 20.3, 20.2, 20.2, 20.1, 20.1, 20. , 20. , 19.9,\n",
       "       19.8, 19.8, 19.7, 19.6, 19.5, 19.5, 19.4, 19.3, 19.3, 19.2, 19.1,\n",
       "       19.1, 19. , 18.9, 18.8, 18.8, 18.7, 18.7, 18.6, 18.5, 18.4, 18.4,\n",
       "       18.3, 18.2, 18.1, 18. , 18. , 17.8, 17.8, 17.7, 17.6, 17.6, 17.5,\n",
       "       17.4, 17.3, 17.3, 17.2, 17.1, 17. , 16.9, 16.8, 16.7, 16.6, 16.5,\n",
       "       16.4, 16.3, 16.3, 16.2, 16.1, 16. , 16. , 15.9, 15.8, 15.8, 15.7,\n",
       "       15.6, 15.6, 15.5, 15.4, 15.4, 15.3, 15.2, 15.2, 15.1, 15. , 15. ,\n",
       "       15. , 14.9, 14.9, 14.8, 14.7, 14.7, 14.6, 14.5, 14.5, 14.4, 14.4,\n",
       "       14.3, 14.3, 14.3, 14.2, 14.1, 14.1, 14.1, 14. , 14. , 13.9, 13.9,\n",
       "       13.8, 13.8, 13.7, 13.6, 13.6, 13.5, 13.4, 13.4, 13.3, 13.3, 13.2,\n",
       "       13.2, 13.1, 13. , 13. , 13. , 12.9, 12.8, 12.8, 12.8, 12.7, 12.7,\n",
       "       12.6, 12.6, 12.6, 12.5, 12.5, 12.5, 12.4, 12.4, 12.3, 12.3, 12.3,\n",
       "       12.2, 12.2, 12.2, 12.2, 12.1, 12.1, 12.1, 12.1, 12. , 12. , 12. ,\n",
       "       12. , 11.9, 11.9, 11.9, 11.8, 11.8, 11.8, 11.7, 11.7, 11.7, 11.6,\n",
       "       11.6, 11.6, 11.5, 11.5, 11.4, 11.4, 11.4, 11.4, 11.3, 11.3, 11.3,\n",
       "       11.3, 11.2, 11.2, 11.2, 11.2, 11.1, 11.1, 11.1, 11.1, 11. , 11. ,\n",
       "       11. , 11. , 11. , 10.9, 10.9, 10.9, 10.9, 10.9, 10.8, 10.8, 10.8,\n",
       "       10.8, 10.8, 10.8, 10.7, 10.7, 10.7, 10.7, 10.7, 10.7, 10.7, 10.7,\n",
       "       10.6, 10.6, 10.6, 10.6, 10.6, 10.5, 10.5, 10.5, 10.4, 10.4, 10.4,\n",
       "       10.4, 10.3, 10.3, 10.3, 10.2, 10.2, 10.2, 10.2, 10.2, 10.1, 10.1,\n",
       "       10.1, 10. , 10.1, 10. , 10. , 10. ,  9.9,  9.9,  9.9,  9.9,  9.9,\n",
       "        9.8,  9.8,  9.8,  9.8,  9.8,  9.7,  9.7,  9.7,  9.7,  9.7,  9.7,\n",
       "        9.7,  9.6,  9.6,  9.6,  9.6,  9.6,  9.6,  9.6,  9.6,  9.5,  9.5,\n",
       "        9.5,  9.5,  9.5,  9.4,  9.4,  9.4,  9.4,  9.4,  9.4,  9.4,  9.3,\n",
       "        9.3,  9.3,  9.3,  9.3,  9.3,  9.3,  9.3,  9.2,  9.2,  9.2,  9.2,\n",
       "        9.2,  9.2,  9.2,  9.2,  9.2,  9.2,  9.2,  9.1,  9.2,  9.2,  9.1,\n",
       "        9.1,  9.1,  9.1,  9.1,  9.1,  9.1,  9. ,  9. ,  9. ,  9. ,  9. ,\n",
       "        8.9,  8.9,  8.9,  8.9,  8.9,  8.9,  8.8,  8.8,  8.8,  8.8,  8.8,\n",
       "        8.8,  8.8,  8.7,  8.7,  8.7,  8.7,  8.7,  8.7,  8.7,  8.6,  8.6,\n",
       "        8.6,  8.6,  8.6,  8.6,  8.6,  8.5,  8.5,  8.5,  8.5,  8.5,  8.5,\n",
       "        8.5,  8.5,  8.5,  8.5,  8.5,  8.5,  8.5,  8.5,  8.5,  8.5,  8.5,\n",
       "        8.5,  8.5,  8.5,  8.4,  8.4,  8.4,  8.4,  8.4,  8.4,  8.4,  8.4,\n",
       "        8.4,  8.3,  8.3,  8.3,  8.3,  8.3,  8.3,  8.3,  8.3,  8.3,  8.3,\n",
       "        8.3,  8.3,  8.2,  8.3,  8.2,  8.2,  8.2,  8.2,  8.3,  8.3,  8.3,\n",
       "        8.4,  8.4,  8.5,  8.5,  8.6,  8.6,  8.6,  8.7,  8.7,  8.8,  8.8,\n",
       "        8.8,  8.9,  8.9,  9. ,  9. ,  9. ,  9. ,  9.1,  9.1,  9.1,  9.1,\n",
       "        9.1,  9.2,  9.2,  9.2,  9.2,  9.2,  9.2,  9.2,  9.3,  9.3,  9.3,\n",
       "        9.3,  9.4,  9.4,  9.4,  9.4,  9.4,  9.6,  9.6,  9.7,  9.7,  9.8,\n",
       "        9.8,  9.9, 10. , 10. ])"
      ]
     },
     "execution_count": 54,
     "metadata": {},
     "output_type": "execute_result"
    }
   ],
   "source": [
    "temperatur"
   ]
  },
  {
   "cell_type": "code",
   "execution_count": 55,
   "metadata": {},
   "outputs": [
    {
     "data": {
      "image/png": "[encoded data removed]",
      "text/plain": [
       "<Figure size 432x288 with 1 Axes>"
      ]
     },
     "metadata": {
      "needs_background": "light"
     },
     "output_type": "display_data"
    }
   ],
   "source": [
    "plot(tid,temperatur,)\n",
    "xlabel(\"tid i sekunder\")\n",
    "ylabel(\"temperatur i grader celcius\")\n",
    "grid()\n",
    "\n",
    "\n",
    "show()"
   ]
  },
  {
   "cell_type": "code",
   "execution_count": 56,
   "metadata": {},
   "outputs": [],
   "source": [
    "def gjenomsnitt(verdier):\n",
    "    n=len(verdier)\n",
    "    summen=0\n",
    "    for verdi in verdier:\n",
    "        summen=summen+verdi\n",
    "    snitt=summen/n    \n",
    "    return snitt"
   ]
  },
  {
   "cell_type": "code",
   "execution_count": 57,
   "metadata": {},
   "outputs": [
    {
     "name": "stdout",
     "output_type": "stream",
     "text": [
      "Gjenomsnittlig temperatur er 19.0 grader celcius\n"
     ]
    }
   ],
   "source": [
    "tall=temperatur\n",
    "snitt=gjenomsnitt(tall)\n",
    "print(\"Gjenomsnittlig temperatur er\",round(snitt), \"grader celcius\")"
   ]
  },
  {
   "cell_type": "code",
   "execution_count": 58,
   "metadata": {},
   "outputs": [],
   "source": [
    "def standardavvik(verdier):\n",
    "    n=len(verdier)\n",
    "    snitt=gjenomsnitt(verdier)\n",
    "    avvik=0\n",
    "    for verdi in verdier:\n",
    "        avvik=avvik+(verdi-snitt)**2\n",
    "    avvik=(avvik/n)**0.5\n",
    "    return avvik"
   ]
  },
  {
   "cell_type": "code",
   "execution_count": 61,
   "metadata": {},
   "outputs": [
    {
     "name": "stdout",
     "output_type": "stream",
     "text": [
      "Standardavvik for temperatur er:  10.0 grader celcius\n"
     ]
    }
   ],
   "source": [
    "avvik=standardavvik(temperatur)\n",
    "print(\"Standardavvik for temperatur er: \", round(avvik), \"grader celcius\")"
   ]
  }
 ],
 "metadata": {
  "kernelspec": {
   "display_name": "Python 3",
   "language": "python",
   "name": "python3"
  },
  "language_info": {
   "codemirror_mode": {
    "name": "ipython",
    "version": 3
   },
   "file_extension": ".py",
   "mimetype": "text/x-python",
   "name": "python",
   "nbconvert_exporter": "python",
   "pygments_lexer": "ipython3",
   "version": "3.8.3"
  }
 },
 "nbformat": 4,
 "nbformat_minor": 4
}
