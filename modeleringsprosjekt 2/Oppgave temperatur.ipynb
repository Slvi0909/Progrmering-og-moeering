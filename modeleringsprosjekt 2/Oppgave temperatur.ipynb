{
 "cells": [
  {
   "cell_type": "markdown",
   "metadata": {},
   "source": [
    "# Modelering av solinnstråling og temperatur ved jordas overflate\n"
   ]
  },
  {
   "cell_type": "markdown",
   "metadata": {},
   "source": [
    "## Hensikt:\n",
    "\n",
    "Hensikten er å lage ulike forenklede modeller for solinstrålingen til jorda og å bruke dette til å beregne temperaturen ved jordas overflate."
   ]
  },
  {
   "cell_type": "markdown",
   "metadata": {},
   "source": [
    "## Teori\n",
    "\n",
    "I oppgavene er modellene svært forenklet fra vikeligheten. Her er noen av prinsippene som tas ibruk:\n",
    "\n",
    "Stefan Boltzmans lov:\n",
    "\n",
    "I dette prosjektet brukes prinsippet om at alle gjennstander med en temperatur over det absolutte nullpunktet avgir varmestråling. Hvor mye varmestråling som sendes ut regnes ut ved å bruke Stefan Boltzmans lov og ved å bruke opgitte verdier for en gjenstands temperatur og areal.\n",
    "\n",
    "\n",
    "Solkonstanten:\n",
    "\n",
    "Vi bruker i oppgaven solkonstanten for å finne gjennomsnittlig elektromagnetisk stråling ut fra sola. Dette regnes ut ved å bruke opgitte verdier for solens varmestråling og avstanden mellom jorda og solen\n",
    "\n",
    "\n",
    "Energiprinsippet:\n",
    "\n",
    "i oppgaven bruker vi en forenket modell hvor vi ser på stråling ut som lik strålingen inn i systemet\n",
    "\n",
    "\n",
    "forenklet atmosfære:\n",
    "\n",
    "Her tar vi som utgangspunkt at atmosfæren har konstant temperatur, at all solinstråling fra sola går igjennom atmosfæren, og at atmosfæren holder på all solutstrålingen fra jrda.\n",
    "\n",
    "\n",
    "\n",
    "\n"
   ]
  },
  {
   "cell_type": "markdown",
   "metadata": {},
   "source": [
    "## Oppgave 1:\n",
    "\n",
    "Her bruker vi en modell for å finne gjennomsnittlig varmestråling som treffer vertikalt på\n",
    "jordklodens atmosfære.\n",
    "\n"
   ]
  },
  {
   "cell_type": "code",
   "execution_count": 15,
   "metadata": {},
   "outputs": [
    {
     "name": "stdout",
     "output_type": "stream",
     "text": [
      "gjennomsnittlig solinnstråling til jordas overflate er 1366 W/m**2K**4\n"
     ]
    }
   ],
   "source": [
    "#Stefan-Boltzman konstant\n",
    "sigma=5.67*10**-8 #W/m**2, \n",
    "\n",
    "temp_sol=5778 #gitt i kelvin\n",
    "diameter_sol=1391016*10**3 #gitt i meter\n",
    "avstand_jordsol=149600000*10**3 #gitt i meter\n",
    "\n",
    "stråling_sol=sigma*(temp_sol**4)\n",
    "s0=((diameter_sol/2)**2)/(avstand_jordsol**2)*stråling_sol\n",
    "\n",
    "print(\"gjennomsnittlig solinnstråling til jordas overflate er\",round(s0),\"W/m**2K**4\")\n"
   ]
  },
  {
   "cell_type": "markdown",
   "metadata": {},
   "source": [
    "\n",
    "Denne formelen fungerer for å måle den gjennomsnittlige varmestrålingen som treffer vertikalt på jordklodens atmosfære fordi den totale solstrålingen som treffer jordas overflate er gitt ved total solutstråling dividert med arealet for hvor solinnstrålingen treffer. For å finne den totale solutstrålingen fra sola kan man bruke stefan boltzmans lov om at alle legemer over det absolutte nullpunkt vil sende ut varmestråling. Så kan man gange det med arealet til sola for å finne solutstrålingern fra sola. Ved å gjøre dette vil man kunne komme frem til solkonstanten.\n",
    "\n",
    "Dette er en modell for hvor mye solutstråling som sendes ut fra sola og som treffer jordas overflate. Denne stemmer ikke helt overens med virkeligheten. Hvor mye solutsråling sola sender ut kan variere og solutstrålingen er aldri konstant. Enkelte steder på solas overflate kan til tider avgi mere eller minder en det som det er tatt utgangspunkt i denne modellen. All solutsrålingen som sendes ut fra sola vil heller ikke treffe jordoverflaten, noe som vill tilsi at denne modellen gir altfor høye tall. Noe av solinnstrålingen vil f.eks. reflekteres ved atmosfæren. \n"
   ]
  },
  {
   "cell_type": "markdown",
   "metadata": {},
   "source": [
    "## Oppgave 2:\n",
    "\n",
    "Her legger vi til prinsippet om at noe av strålingen som treffer jorda blir reflektert ved å legge inn en konstant som kalles albedo. Deretter bruker vi prinsippet om solinnstråling til å finne en modell for temperaturen på jorda."
   ]
  },
  {
   "cell_type": "code",
   "execution_count": 1,
   "metadata": {},
   "outputs": [
    {
     "name": "stdout",
     "output_type": "stream",
     "text": [
      "Temperaturen på jorda er -18 grader celsius\n"
     ]
    }
   ],
   "source": [
    "#Stefan-Boltzman konstant\n",
    "sigma=5.67*10**-8 #W/m**2, \n",
    "\n",
    "temp_sol=5778 #gitt i kelvin\n",
    "diameter_sol=1391016*10**3 #gitt i meter\n",
    "avstand_jordsol=149600000*10**3 #gitt i meter\n",
    "albedo=0.3 #mål på refleksjon fra jorda\n",
    "\n",
    "stråling_sol=sigma*(temp_sol**4)\n",
    "s0=((diameter_sol/2)**2)/(avstand_jordsol**2)*stråling_sol\n",
    "\n",
    "temperatur=((s0*(1-albedo))/(4*sigma))**(1/4)\n",
    "\n",
    "print(\"Temperaturen på jorda er\", round(temperatur-273.15), \"grader celsius\")"
   ]
  },
  {
   "cell_type": "markdown",
   "metadata": {},
   "source": [
    "Vi kan komme frem til denne modellen ved å se på hvor mye solinnstråling som treffer jordas atmosfære basert på konstanten for solinnstråling som vi så på i oppgave 1, og trekke fra solinnstrålingen som blir reflektert ved jordas atmosfære. Solinnstrålingen som blir reflektert er en konstant som kalles albedo. I denne modellen antar vi at energi inn = energi ut. Da kan vi finne energien inn ved å se på jorda som en flat sirkel, og vi kan finne energien som sendes ut fra jordoverflaten ved å se på jorda som en kule. \n",
    "\n",
    "Vi kan anta at planeten er en flat sirkel fordi avstanden mellom sola og jorda er såpass stor, i tilegg til at jorda er veldig liten iforhold til sola. Når avstanden er såpass stor vil jorkloden fra solas perspektiv likne på en flat sirkel. \n",
    "\n",
    "Den gjennomsnittlige temperaturen på jorda er målt til 15 grader celsius, og med denne modellen fikk vi -18 som gjennomsnittstemperatur. Denne modellen stemmer da ikke så godt overens med den virkelige gjennomsnittstemperaturen på jorda. Jeg vil anta at grunnen til at det er så stor forskjell i verdiene er fordi denne modellen ikke inneholder en modell for hvordan jordas atmosfære fungerer. Jordas atmosfære bidrar i stor grad til å holde på mye av varmen som kommer inn i form av varmestråling pga drivhuseffekten. Uten atmosfæren hadde dermed temperaturen på jorda vært mye lavere.\n",
    "\n",
    "En annen årsak som gjør at modellen stemmer dårlig overens med virkeligheten er at vi tar som utgangspunkt at energi inn er lik energi ut. I virkeligheten stemmer ikke dette, for energi inn er ikke lik energi ut. Hvis dette hadde vært tilfellet hadde ikke planeten kunnet varmes opp og det hadde vært veldig kaldt å leve på jorda. \n",
    "\n",
    "i oppgaven gjør vi også en forenkling ved å anta at temperaturen på jorda er konstant, noe som heller ikke stemmer. \n",
    "\n"
   ]
  },
  {
   "cell_type": "markdown",
   "metadata": {},
   "source": [
    "## Oppgave 3:\n",
    "Her utvider vi programet ved å legge til en forenklet modell av jordas atmosfære"
   ]
  },
  {
   "cell_type": "code",
   "execution_count": 3,
   "metadata": {},
   "outputs": [
    {
     "name": "stdout",
     "output_type": "stream",
     "text": [
      "Med en forenkling av jordas atmosfære blir temperaturen ved jordoverflaten 30 grader celsius\n"
     ]
    }
   ],
   "source": [
    "from pylab import*\n",
    "\n",
    "#Stefan-Boltzman konstant\n",
    "sigma=5.67*10**-8 #W/m**2, \n",
    "\n",
    "temp_sol=5778 #gitt i kelvin\n",
    "diameter_sol=1391016*10**3 #gitt i meter\n",
    "avstand_jordsol=149600000*10**3 #gitt i meter\n",
    "albedo=0.3 #mål på refleksjon fra jorda\n",
    "\n",
    "stråling_sol=sigma*(temp_sol**4)\n",
    "s0=((diameter_sol/2)**2)/(avstand_jordsol**2)*stråling_sol\n",
    "\n",
    "temperatur_jordoverflate=(2**(1/4))*(((s0/4*(1-albedo))/sigma)**(1/4))\n",
    "                                       \n",
    "print(\"Med en forenkling av jordas atmosfære blir temperaturen ved jordoverflaten\", round(temperatur_jordoverflate-273.15), \"grader celsius\")\n"
   ]
  },
  {
   "cell_type": "markdown",
   "metadata": {},
   "source": [
    "Når vi legger til et ledd for atmosfæren vil det påvirke temperaturen slik at det blir varmere. Dette fordi deler av solutsrålingen som blir reflektert fra jorda nå vil holdes inne av atmosfæren. Dette vil bidra til at mindre varme slippes ut, noe som øker temperaturen på jordas overflate. \n",
    "\n",
    "Denne modellen kan heller ikke sies å være helt fullstendig fordi tykkelsen på jordas atmosfæres vil ha betydning for evnen til å reflektere solutsråling. Dette kan variere med tid og fra sted til sted.\n",
    "\n",
    "I denne modellen for atmosfær er det gjort en del forenklinger. Vi har blant annet sett på atmosfæren som fullstendig gjennomtrengelig for solinnstråling, og at all solutstrålingen fra jorda reflekteres tilbake av atmosfæren. Slik er det ikke i virkeligheten, for noe av solinnstrålingen vil reflekteres vekk og noe av solutstrålingen fra jorda vil slippes ut igjenn. Dette gjør at modellen vår gir et mye høyere tall på jordas gjennomsnittstemperatur enn den vil være i virkeligheten.\n",
    "\n",
    "Denne modellene gir alikevel et bedre bilde på den gjennosmsnittlige temperaturen på jorda, en modellen uten atmosfære. Dette fordi jordas atmosfære i stor grad bidrar til å holde på solutstråling fra jordkloden, som igjenn da betyr at det vil være varmere med en atmosfære. \n",
    "\n"
   ]
  },
  {
   "cell_type": "markdown",
   "metadata": {},
   "source": [
    "## Oppgave 4:\n",
    "\n",
    "Jordas atmosfære slipper ikke inn all solinstrålingen fra sola, og all solutsrålingen fra jorda slippes heller ikke ut gjennom atmosfæren.\n",
    "\n",
    "En ide for å utvide programmet er å legge til en konstant som sier noe om hvor mye solinnstråling som slippes igjennom atmosfæren og hvor mye som slippes ut. Denne konstanten vil da være avhengig av hvordan lys som treffer atmosfæren brytes eller reflekteres. \n",
    "\n",
    "En ide for hvordan programet kan utvikkles er å starte med en veldig høy konstant og justere på konstanten slik at temperaturen på jorda nærmer seg den virkelige gjennomsnittstemperaturen."
   ]
  },
  {
   "cell_type": "markdown",
   "metadata": {},
   "source": [
    "## Oppgave 5:\n",
    "\n",
    "Jeg vet egentlig ikke helt hvordan dette kan gjøres men antar at man da finner solinnstrålingen til et gitt punkt på jorda per tidsenhet og ganger dette opp til å bli et fulstendeig år."
   ]
  },
  {
   "cell_type": "markdown",
   "metadata": {},
   "source": [
    "## Konklusjon:\n",
    "\n",
    "Her har vi lagd ulike modeller for solinnstråling som treffer jordoverflaten og brukt dette for å finne en verdi for gjennomsnittlig temperatur på jordkloden. \n",
    "\n",
    "Temperaturen på jorda avhenger av mange komplekse systemer og modellene vi har lagd stemmer ikke helt overens med virkeligheten. Alikevel har vi funnet forenklede modeller som kan gi et greit bilde av temperaturen på jorda. \n",
    "\n",
    "For å utvide progranet videre kan man legge til en mere kompleks modell av atmosfæren ved å legge til konstanter for hvor mye solinnstråling som reflekteres ved atmosfæren og hvor mye solutstråling fra jorda som slippes ut igjenn."
   ]
  }
 ],
 "metadata": {
  "kernelspec": {
   "display_name": "Python 3",
   "language": "python",
   "name": "python3"
  },
  "language_info": {
   "codemirror_mode": {
    "name": "ipython",
    "version": 3
   },
   "file_extension": ".py",
   "mimetype": "text/x-python",
   "name": "python",
   "nbconvert_exporter": "python",
   "pygments_lexer": "ipython3",
   "version": "3.8.3"
  }
 },
 "nbformat": 4,
 "nbformat_minor": 4
}
